{
 "cells": [
  {
   "cell_type": "markdown",
   "metadata": {},
   "source": [
    "## 0.导入库"
   ]
  },
  {
   "cell_type": "markdown",
   "metadata": {},
   "source": [
    "### 0.1 常用的库"
   ]
  },
  {
   "cell_type": "code",
   "execution_count": 1,
   "metadata": {},
   "outputs": [],
   "source": [
    "import os\n",
    "import numpy as np\n",
    "import time"
   ]
  },
  {
   "cell_type": "markdown",
   "metadata": {},
   "source": [
    "### 0.2 需要使用的库"
   ]
  },
  {
   "cell_type": "code",
   "execution_count": 2,
   "metadata": {},
   "outputs": [],
   "source": [
    "import pandas as pd\n",
    "import pickle\n",
    "import re"
   ]
  },
  {
   "cell_type": "markdown",
   "metadata": {},
   "source": [
    "### 0.3 基本方法"
   ]
  },
  {
   "cell_type": "code",
   "execution_count": 3,
   "metadata": {},
   "outputs": [
    {
     "name": "stderr",
     "output_type": "stream",
     "text": [
      "C:\\ProgramData\\Anaconda3\\lib\\site-packages\\h5py\\__init__.py:36: FutureWarning: Conversion of the second argument of issubdtype from `float` to `np.floating` is deprecated. In future, it will be treated as `np.float64 == np.dtype(float).type`.\n",
      "  from ._conv import register_converters as _register_converters\n"
     ]
    }
   ],
   "source": [
    "import sys\n",
    "# 实时更新进度条\n",
    "def print_flush(print_string):\n",
    "    print(print_string, end='\\r')\n",
    "    sys.stdout.flush()\n",
    "\n",
    "# 导入深度学习库tensorflow    \n",
    "import tensorflow as tf    \n",
    "#  获取显存动态增长的会话 \n",
    "def get_session():\n",
    "    config = tf.ConfigProto()\n",
    "    config.gpu_options.allow_growth = True\n",
    "    session = tf.Session(config=config)\n",
    "    return session"
   ]
  },
  {
   "cell_type": "markdown",
   "metadata": {},
   "source": [
    "## 1. 文件内容的列表"
   ]
  },
  {
   "cell_type": "markdown",
   "metadata": {},
   "source": [
    "### 1.1 文本文件路径的列表"
   ]
  },
  {
   "cell_type": "code",
   "execution_count": 4,
   "metadata": {},
   "outputs": [
    {
     "name": "stdout",
     "output_type": "stream",
     "text": [
      "文本文件路径的列表长度: 836075\n"
     ]
    }
   ],
   "source": [
    "def get_txtFilePath_list(root_dirPath):\n",
    "    txtFilePath_list = []\n",
    "    sub_dirName_list = next(os.walk(root_dirPath))[1]\n",
    "    for sub_dirName in sub_dirName_list:\n",
    "        sub_dirPath = os.path.join(root_dirPath, sub_dirName)\n",
    "        fileName_list = next(os.walk(sub_dirPath))[2]\n",
    "        filePath_list = [os.path.join(sub_dirPath, k) for k in fileName_list]\n",
    "        txtFilePath_list.extend(filePath_list)\n",
    "    return txtFilePath_list\n",
    "\n",
    "\n",
    "root_dirPath = '../resources/THUCNews/'\n",
    "txtFilePath_list = get_txtFilePath_list(root_dirPath)\n",
    "print('文本文件路径的列表长度:', len(txtFilePath_list))"
   ]
  },
  {
   "cell_type": "markdown",
   "metadata": {},
   "source": [
    "### 1.2 读取所有文本文件"
   ]
  },
  {
   "cell_type": "code",
   "execution_count": 6,
   "metadata": {},
   "outputs": [
    {
     "name": "stdout",
     "output_type": "stream",
     "text": [
      "836075/ 836075 >>>>>>>>>>>>>>>>>>>>>>>>>>>>>>>>>>>>>>>>>>>>>>>>>> 进度百分比:100.00% 读取速度:2151.31文件/秒 总共花费时间:388.64秒\r"
     ]
    }
   ],
   "source": [
    "def get_fileContent(txtFilePath):\n",
    "    with open(txtFilePath, 'r', encoding='utf8') as file:\n",
    "        fileContent = file.read()\n",
    "    return fileContent\n",
    "\n",
    "\n",
    "sequence_length = 600\n",
    "sample_quantity = len(txtFilePath_list)\n",
    "startTime = time.time()\n",
    "content_list = []\n",
    "for i in range(sample_quantity):\n",
    "    txtFilePath = txtFilePath_list[i]\n",
    "    fileContent = get_fileContent(txtFilePath)\n",
    "    fileContent_1 = re.sub('\\s+', ' ', fileContent)\n",
    "    fileContent_2 = fileContent_1[:sequence_length]\n",
    "    content_list.append(fileContent_2)\n",
    "    # 打印提示信息，动态刷新进度条\n",
    "    index = i + 1\n",
    "    if index % 100 == 0 or index==sample_quantity:\n",
    "        percent = index / sample_quantity * 100\n",
    "        percent_int = int(percent)\n",
    "        half_percent_int = int(percent_int / 2)\n",
    "        string_0 = '%d/ %d ' %(index, sample_quantity)\n",
    "        string_1 = '>' * half_percent_int + ' ' * (50-half_percent_int)\n",
    "        string_2 = ' 进度百分比:%.2f%%' %percent\n",
    "        usedTime = time.time() - startTime\n",
    "        string_3 = ' 读取速度:%.2f文件/秒' %(index/usedTime)\n",
    "        string_4 = ' 总共花费时间:%.2f秒' %(usedTime)\n",
    "        print_string = string_0 + string_1 + string_2 + string_3 + string_4\n",
    "        print_flush(print_string)"
   ]
  },
  {
   "cell_type": "markdown",
   "metadata": {},
   "source": [
    "### 1.3 把文件内容列表保存为pickle文件"
   ]
  },
  {
   "cell_type": "code",
   "execution_count": 7,
   "metadata": {},
   "outputs": [],
   "source": [
    "pickleFilePath = '../resources/content_list.pickle'\n",
    "with open(pickleFilePath, 'wb') as file:\n",
    "    pickle.dump(content_list, file)"
   ]
  },
  {
   "cell_type": "markdown",
   "metadata": {},
   "source": [
    "### 1.4 从pickle文件加载文件内容列表"
   ]
  },
  {
   "cell_type": "code",
   "execution_count": 5,
   "metadata": {},
   "outputs": [],
   "source": [
    "pickleFilePath = '../resources/content_list.pickle'\n",
    "with open(pickleFilePath, 'rb') as file:\n",
    "    content_list = pickle.load(file)"
   ]
  },
  {
   "cell_type": "markdown",
   "metadata": {},
   "source": [
    "## 2. 样本标签的列表"
   ]
  },
  {
   "cell_type": "markdown",
   "metadata": {},
   "source": [
    "### 2.1 获取样本标签的列表"
   ]
  },
  {
   "cell_type": "code",
   "execution_count": 6,
   "metadata": {},
   "outputs": [
    {
     "name": "stdout",
     "output_type": "stream",
     "text": [
      "样本标签的列表长度: 836075\n"
     ]
    },
    {
     "data": {
      "text/plain": [
       "科技    162929\n",
       "股票    154398\n",
       "体育    131604\n",
       "娱乐     92632\n",
       "时政     63086\n",
       "社会     50849\n",
       "教育     41936\n",
       "财经     37098\n",
       "家居     32586\n",
       "游戏     24373\n",
       "房产     20050\n",
       "时尚     13368\n",
       "彩票      7588\n",
       "星座      3578\n",
       "dtype: int64"
      ]
     },
     "execution_count": 6,
     "metadata": {},
     "output_type": "execute_result"
    }
   ],
   "source": [
    "def get_label_list(root_dirPath):\n",
    "    label_list = []\n",
    "    sub_dirName_list = next(os.walk(root_dirPath))[1]\n",
    "    for sub_dirName in sub_dirName_list:\n",
    "        sub_dirPath = os.path.join(root_dirPath, sub_dirName)\n",
    "        fileName_list = next(os.walk(sub_dirPath))[2]\n",
    "        part_label_list = [sub_dirName] * len(fileName_list)\n",
    "        label_list.extend(part_label_list)\n",
    "    return label_list\n",
    "\n",
    "\n",
    "root_dirPath = '../resources/THUCNews/'\n",
    "label_list = get_label_list(root_dirPath)\n",
    "print('样本标签的列表长度:', len(label_list)) \n",
    "pd.value_counts(label_list)"
   ]
  },
  {
   "cell_type": "markdown",
   "metadata": {},
   "source": [
    "## 3. 字列表"
   ]
  },
  {
   "cell_type": "markdown",
   "metadata": {},
   "source": [
    "### 3.1 根据文件内容列表，统计计数获得出现次数排名前6999的字\n",
    "#### 排名7000以后的字统一用'PAD'表示"
   ]
  },
  {
   "cell_type": "code",
   "execution_count": 13,
   "metadata": {},
   "outputs": [
    {
     "name": "stdout",
     "output_type": "stream",
     "text": [
      "836075/ 836075 进度百分比: 100.00% 花费时间: 79.08秒\r"
     ]
    }
   ],
   "source": [
    "from collections import Counter\n",
    "\n",
    "def get_word_list(content_list, size):\n",
    "    startTime = time.time()\n",
    "    counter = Counter()\n",
    "    sample_quantity = len(content_list)\n",
    "    for i, content in enumerate(content_list, 1):\n",
    "        counter.update(content)\n",
    "        if i%1000==0 or i==sample_quantity:\n",
    "            string_0 = '%d/ %d' %(i, sample_quantity)\n",
    "            string_1 = ' 进度百分比: %.2f%%' %(i/sample_quantity*100)\n",
    "            usedTime = time.time() - startTime\n",
    "            string_2 = ' 花费时间: %.2f秒' %usedTime\n",
    "            print_string = string_0 + string_1 + string_2\n",
    "            print_flush(print_string)\n",
    "    word_list_1 = [k[0] for k in counter.most_common(size-1)]\n",
    "    word_list = ['PAD'] + word_list_1\n",
    "    return word_list\n",
    "\n",
    "\n",
    "vocabulary_size = 7000\n",
    "word_list = get_word_list(content_list, vocabulary_size)"
   ]
  },
  {
   "cell_type": "markdown",
   "metadata": {},
   "source": [
    "### 3.2 把字列表保存为pickle文件"
   ]
  },
  {
   "cell_type": "code",
   "execution_count": 14,
   "metadata": {},
   "outputs": [],
   "source": [
    "pickleFilePath = '../resources/word_list.pickle'\n",
    "with open(pickleFilePath, 'wb') as file:\n",
    "    pickle.dump(word_list, file)"
   ]
  },
  {
   "cell_type": "markdown",
   "metadata": {},
   "source": [
    "### 3.3 从pickle文件加载字列表"
   ]
  },
  {
   "cell_type": "code",
   "execution_count": 7,
   "metadata": {},
   "outputs": [],
   "source": [
    "pickleFilePath = '../resources/word_list.pickle'\n",
    "with open(pickleFilePath, 'rb') as file:\n",
    "    word_list = pickle.load(file)"
   ]
  },
  {
   "cell_type": "markdown",
   "metadata": {},
   "source": [
    "## 4.数据准备"
   ]
  },
  {
   "cell_type": "markdown",
   "metadata": {},
   "source": [
    "### 4.1 get_X"
   ]
  },
  {
   "cell_type": "code",
   "execution_count": 29,
   "metadata": {},
   "outputs": [],
   "source": [
    "import keras\n",
    "\n",
    "# sequence_length中文叫做序列长度，根据自己经验设置\n",
    "# sequence_length设置为600，即根据文章的前600字则可判断文章类型\n",
    "sequence_length = 600\n",
    "word2id_dict = dict([(b, a) for a, b in enumerate(word_list)])\n",
    "    \n",
    "    \n",
    "# 获取一篇文章对应的字id列表    \n",
    "def get_id_list(index):\n",
    "    content = index if isinstance(index, str) else content_list[index]\n",
    "    id_list = []\n",
    "    for word in content[:sequence_length]:\n",
    "        if word in word2id_dict:\n",
    "            id_ = word2id_dict[word]\n",
    "            id_list.append(id_)\n",
    "        else:\n",
    "            id_list.append(0)\n",
    "    return id_list       \n",
    "\n",
    "\n",
    "# 获取多篇文章的字id列表\n",
    "def get_X(indexes):\n",
    "    idList_list = [get_id_list(k) for k in indexes]\n",
    "    X = keras.preprocessing.sequence.pad_sequences(idList_list, sequence_length)        \n",
    "    return X"
   ]
  },
  {
   "cell_type": "markdown",
   "metadata": {},
   "source": [
    "### 4.2 get_Y"
   ]
  },
  {
   "cell_type": "code",
   "execution_count": 9,
   "metadata": {},
   "outputs": [],
   "source": [
    "from sklearn.preprocessing import LabelEncoder\n",
    "\n",
    "labelEncoder = LabelEncoder()\n",
    "labelEncoder.fit(label_list)\n",
    "category_quantity = labelEncoder.classes_.shape[0]\n",
    "\n",
    "\n",
    "# 获取多篇文章标签one-hot编码矩阵\n",
    "def get_Y(indexes):\n",
    "    part_label_list = [label_list[k] for k in indexes]\n",
    "    oneHot_2d_array = labelEncoder.transform(part_label_list)\n",
    "    Y = keras.utils.to_categorical(oneHot_2d_array, category_quantity)\n",
    "    return Y"
   ]
  },
  {
   "cell_type": "markdown",
   "metadata": {},
   "source": [
    "### 4.3 使用带权重的抽样策略，计算每个样本的权重"
   ]
  },
  {
   "cell_type": "code",
   "execution_count": 10,
   "metadata": {},
   "outputs": [],
   "source": [
    "def get_probability_list(label_list):\n",
    "    count_series = pd.value_counts(label_list)\n",
    "    category_quantity = len(count_series)\n",
    "    category_weights = 1 / category_quantity\n",
    "    label2weights_dict = dict([(a, b) for a, b in zip(count_series.index, category_weights/count_series)])\n",
    "    probability_list = [label2weights_dict[k] for k in label_list]\n",
    "    return probability_list"
   ]
  },
  {
   "cell_type": "markdown",
   "metadata": {},
   "source": [
    "### 4.4 批量数据生产者线程"
   ]
  },
  {
   "cell_type": "code",
   "execution_count": 11,
   "metadata": {},
   "outputs": [],
   "source": [
    "import threading\n",
    "from sklearn.model_selection import train_test_split\n",
    "\n",
    "sample_quantity = len(label_list)\n",
    "index_1d_array = np.arange(sample_quantity)\n",
    "train_index_1d_array, test_index_1d_array = train_test_split(index_1d_array, random_state=2019)\n",
    "train_label_list = [label_list[k] for k in train_index_1d_array]\n",
    "train_probability_list = get_probability_list(train_label_list)\n",
    "batch_size = 128\n",
    "\n",
    "\n",
    "class BatchDataThread(threading.Thread):\n",
    "    def __init__(self, queue):\n",
    "        super(BatchDataThread, self).__init__()\n",
    "        self.queue = queue\n",
    "        self.start()\n",
    "    \n",
    "    def run(self):\n",
    "        while not self._is_stopped:\n",
    "            if self.queue.qsize() < 3:\n",
    "                selected_indexes = np.random.choice(\n",
    "                    train_index_1d_array, size=batch_size, p=train_probability_list)\n",
    "                batch_X = get_X(selected_indexes)\n",
    "                batch_Y = get_Y(selected_indexes)\n",
    "                put_tuple = batch_X.astype('int32'), batch_Y.astype('float32')\n",
    "                self.queue.put(put_tuple)\n",
    "            time.sleep(0.0001)            "
   ]
  },
  {
   "cell_type": "markdown",
   "metadata": {},
   "source": [
    "### 4.5 批量数据生成器类"
   ]
  },
  {
   "cell_type": "code",
   "execution_count": 12,
   "metadata": {},
   "outputs": [],
   "source": [
    "import queue\n",
    "\n",
    "class BatchDataGenerator(object):\n",
    "    def __init__(self, worker_quantity=4):\n",
    "        self.queue = queue.Queue()\n",
    "        for i in range(worker_quantity):\n",
    "            BatchDataThread(self.queue)\n",
    "            \n",
    "    def __iter__(self):\n",
    "        return self\n",
    "    \n",
    "    def __next__(self):\n",
    "        batch_data = self.queue.get()\n",
    "        return batch_data\n",
    "    \n",
    "    \n",
    "batchData_generator = BatchDataGenerator()    "
   ]
  },
  {
   "cell_type": "markdown",
   "metadata": {},
   "source": [
    "## 5.搭建神经网络"
   ]
  },
  {
   "cell_type": "code",
   "execution_count": 36,
   "metadata": {},
   "outputs": [],
   "source": [
    "tf.reset_default_graph()\n",
    "X_holder = tf.placeholder(tf.int32, [None, sequence_length])\n",
    "Y_holder = tf.placeholder(tf.float32, [None, category_quantity])\n",
    "data_0 = X_holder\n",
    "vocabulary_size = 7000\n",
    "embedding_size = 100\n",
    "layer_1 = tf.get_variable('embedding', [vocabulary_size, embedding_size])\n",
    "data_1 = tf.nn.embedding_lookup(layer_1, data_0)\n",
    "filter_quantiy = 128\n",
    "layer_2 = tf.layers.conv1d\n",
    "data_2 = layer_2(data_1, filter_quantiy, 3, padding='SAME')\n",
    "layer_3 = tf.layers.conv1d\n",
    "data_3 = layer_3(data_1, filter_quantiy, 5, padding='SAME')\n",
    "layer_4 = tf.layers.conv1d\n",
    "data_4 = layer_4(data_1, filter_quantiy, 7, padding='SAME')\n",
    "layer_5 = tf.concat\n",
    "data_5 = layer_5([data_2, data_3, data_4], axis=2)\n",
    "layer_6 = tf.reduce_max\n",
    "data_6 = layer_6(data_5, [1])\n",
    "layer_7 = tf.layers.dense\n",
    "fc1_units = 128\n",
    "data_7 = layer_7(data_6, fc1_units)\n",
    "layer_8 = tf.nn.relu\n",
    "data_8 = layer_8(data_7)\n",
    "layer_9 = tf.layers.dense\n",
    "data_9 = layer_9(data_8, category_quantity)\n",
    "layer_10 = tf.nn.softmax\n",
    "data_10 = layer_10(data_9)\n",
    "layer_11 = tf.nn.softmax_cross_entropy_with_logits_v2\n",
    "data_11 = layer_11(labels=Y_holder, logits=data_9)\n",
    "loss = tf.reduce_mean(data_11)\n",
    "learning_rate = 5e-4\n",
    "optimizer = tf.train.AdamOptimizer(learning_rate)\n",
    "train = optimizer.minimize(loss)\n",
    "isCorrect = tf.equal(tf.argmax(Y_holder, 1), tf.argmax(data_10, 1))\n",
    "accuracy = tf.reduce_mean(tf.cast(isCorrect, tf.float32))"
   ]
  },
  {
   "cell_type": "markdown",
   "metadata": {},
   "source": [
    "## 6.参数初始化"
   ]
  },
  {
   "cell_type": "code",
   "execution_count": 37,
   "metadata": {},
   "outputs": [],
   "source": [
    "init = tf.global_variables_initializer()\n",
    "session = get_session()\n",
    "session.run(init)"
   ]
  },
  {
   "cell_type": "markdown",
   "metadata": {},
   "source": [
    "## 7.模型训练"
   ]
  },
  {
   "cell_type": "code",
   "execution_count": 38,
   "metadata": {},
   "outputs": [
    {
     "name": "stdout",
     "output_type": "stream",
     "text": [
      "步数:20000 损失值:0.0416 准确率:0.9922 训练速度:12.51步/秒\r"
     ]
    }
   ],
   "source": [
    "train_steps = 20000\n",
    "startTime = time.time()\n",
    "for step in range(1, train_steps+1):\n",
    "    batch_X, batch_Y = next(batchData_generator)\n",
    "    session.run(train, {X_holder:batch_X, Y_holder:batch_Y})\n",
    "    if step % 2 == 0 :\n",
    "        loss_value, accuracy_value = session.run([loss, accuracy], {X_holder:batch_X, Y_holder:batch_Y})\n",
    "        usedTime = time.time() - startTime\n",
    "        speed = step / usedTime\n",
    "        print_string = '步数:%d 损失值:%.4f 准确率:%.4f 训练速度:%.2f步/秒' %(\n",
    "            step, loss_value, accuracy_value, speed)\n",
    "        print_flush(print_string)"
   ]
  },
  {
   "cell_type": "markdown",
   "metadata": {},
   "source": [
    "## 8.模型测试"
   ]
  },
  {
   "cell_type": "code",
   "execution_count": 21,
   "metadata": {},
   "outputs": [
    {
     "name": "stdout",
     "output_type": "stream",
     "text": [
      "选出文本内容为:  密云保利花园2月底推85-155平2-4居优惠5000 保利花园(论坛 相册 户型 样板间 点评 地图搜索) 优惠详情：现在办理保利花园四期基金卡即可享受开盘总价优惠5000元。 项目国际公寓预计2月底推出，预计均价9000元/平，70年产权。预计2011年底交房入住。 四期产品为板楼和板塔结合楼，共为12栋15层板楼，1梯2户或4户，分为2、3或4个单元，两居房源户型面积为85、90平方米，三居面积90平米小三居，108-135平米南北通透三居，以及155平米一梯二户四居，共计1300多套。 >>点击了解更多密云区域新盘热盘信息 保利花园项目交通状况：从东直门乘坐980快车到达长城环岛站，社区门口密1路贯穿整个密云核心区起点为“密云建委”终点为“财政局”，途径“华远市场、实验中学、京客隆超市、密云一中、密云六中、教育局、公安局”等，并可换成10余辆公交车围绕密云城区及市区。此外，长城环岛的980快车可直达东直门交通枢纽，方 便进出北京城区，走京承高速，35分钟即可到三元桥北京门户。 >>新浪乐居爱在北京：情人节&妇女节看房团报名 以上信息仅供参考，最终以开发商公布为准。本稿件为新浪乐居独家原创稿件，版权所有，引用或转载请注明出处。 上北京新盘微博 随时随地了解京城楼市最新动态 限购令下商住楼盘推荐： 我要评论 房产导航： \n",
      "真实标签:  房产\n",
      "预测标签:  房产 \n",
      "\n",
      "对于任意文本做分类预测，例如:\n",
      "predict(\"足球篮球\") : 体育\n"
     ]
    }
   ],
   "source": [
    "import warnings\n",
    "warnings.filterwarnings(\"ignore\")\n",
    "\n",
    "def predict(input_content):\n",
    "    id_list = get_id_list(input_content)\n",
    "    X = keras.preprocessing.sequence.pad_sequences([id_list], sequence_length)    \n",
    "    Y = session.run(data_10, {X_holder:X})\n",
    "    y = np.argmax(Y, axis=1)\n",
    "    label = labelEncoder.inverse_transform(y)[0]\n",
    "    return label\n",
    "\n",
    "selected_index = np.random.choice(test_index_1d_array, 1)[0]\n",
    "selected_content = content_list[selected_index]\n",
    "true_label = label_list[selected_index]\n",
    "predict_label = predict(selected_content)\n",
    "print('选出文本内容为: ', selected_content)\n",
    "print('真实标签: ', true_label)\n",
    "print('预测标签: ', predict_label, '\\n')\n",
    "print('对于任意文本做分类预测，例如:')\n",
    "input_content = \"足球篮球\"\n",
    "print('predict(\"%s\") :' %input_content, predict(input_content))"
   ]
  },
  {
   "cell_type": "markdown",
   "metadata": {},
   "source": [
    "## 9.混淆矩阵"
   ]
  },
  {
   "cell_type": "code",
   "execution_count": 39,
   "metadata": {},
   "outputs": [
    {
     "name": "stdout",
     "output_type": "stream",
     "text": [
      "209019/ 209019 花费时间:65.02秒\r"
     ]
    },
    {
     "data": {
      "text/html": [
       "<div>\n",
       "<style scoped>\n",
       "    .dataframe tbody tr th:only-of-type {\n",
       "        vertical-align: middle;\n",
       "    }\n",
       "\n",
       "    .dataframe tbody tr th {\n",
       "        vertical-align: top;\n",
       "    }\n",
       "\n",
       "    .dataframe thead th {\n",
       "        text-align: right;\n",
       "    }\n",
       "</style>\n",
       "<table border=\"1\" class=\"dataframe\">\n",
       "  <thead>\n",
       "    <tr style=\"text-align: right;\">\n",
       "      <th></th>\n",
       "      <th>体育</th>\n",
       "      <th>娱乐</th>\n",
       "      <th>家居</th>\n",
       "      <th>彩票</th>\n",
       "      <th>房产</th>\n",
       "      <th>教育</th>\n",
       "      <th>时尚</th>\n",
       "      <th>时政</th>\n",
       "      <th>星座</th>\n",
       "      <th>游戏</th>\n",
       "      <th>社会</th>\n",
       "      <th>科技</th>\n",
       "      <th>股票</th>\n",
       "      <th>财经</th>\n",
       "    </tr>\n",
       "  </thead>\n",
       "  <tbody>\n",
       "    <tr>\n",
       "      <th>体育</th>\n",
       "      <td>32689</td>\n",
       "      <td>92</td>\n",
       "      <td>20</td>\n",
       "      <td>21</td>\n",
       "      <td>4</td>\n",
       "      <td>22</td>\n",
       "      <td>5</td>\n",
       "      <td>47</td>\n",
       "      <td>0</td>\n",
       "      <td>5</td>\n",
       "      <td>34</td>\n",
       "      <td>34</td>\n",
       "      <td>11</td>\n",
       "      <td>4</td>\n",
       "    </tr>\n",
       "    <tr>\n",
       "      <th>娱乐</th>\n",
       "      <td>128</td>\n",
       "      <td>22196</td>\n",
       "      <td>117</td>\n",
       "      <td>1</td>\n",
       "      <td>22</td>\n",
       "      <td>89</td>\n",
       "      <td>79</td>\n",
       "      <td>120</td>\n",
       "      <td>4</td>\n",
       "      <td>13</td>\n",
       "      <td>148</td>\n",
       "      <td>167</td>\n",
       "      <td>13</td>\n",
       "      <td>15</td>\n",
       "    </tr>\n",
       "    <tr>\n",
       "      <th>家居</th>\n",
       "      <td>15</td>\n",
       "      <td>49</td>\n",
       "      <td>8035</td>\n",
       "      <td>0</td>\n",
       "      <td>29</td>\n",
       "      <td>28</td>\n",
       "      <td>30</td>\n",
       "      <td>17</td>\n",
       "      <td>2</td>\n",
       "      <td>4</td>\n",
       "      <td>13</td>\n",
       "      <td>63</td>\n",
       "      <td>25</td>\n",
       "      <td>15</td>\n",
       "    </tr>\n",
       "    <tr>\n",
       "      <th>彩票</th>\n",
       "      <td>39</td>\n",
       "      <td>1</td>\n",
       "      <td>2</td>\n",
       "      <td>1859</td>\n",
       "      <td>0</td>\n",
       "      <td>2</td>\n",
       "      <td>1</td>\n",
       "      <td>4</td>\n",
       "      <td>1</td>\n",
       "      <td>2</td>\n",
       "      <td>21</td>\n",
       "      <td>3</td>\n",
       "      <td>1</td>\n",
       "      <td>1</td>\n",
       "    </tr>\n",
       "    <tr>\n",
       "      <th>房产</th>\n",
       "      <td>1</td>\n",
       "      <td>8</td>\n",
       "      <td>61</td>\n",
       "      <td>0</td>\n",
       "      <td>4720</td>\n",
       "      <td>19</td>\n",
       "      <td>1</td>\n",
       "      <td>33</td>\n",
       "      <td>0</td>\n",
       "      <td>1</td>\n",
       "      <td>29</td>\n",
       "      <td>21</td>\n",
       "      <td>65</td>\n",
       "      <td>19</td>\n",
       "    </tr>\n",
       "    <tr>\n",
       "      <th>教育</th>\n",
       "      <td>8</td>\n",
       "      <td>20</td>\n",
       "      <td>24</td>\n",
       "      <td>5</td>\n",
       "      <td>5</td>\n",
       "      <td>10120</td>\n",
       "      <td>9</td>\n",
       "      <td>92</td>\n",
       "      <td>1</td>\n",
       "      <td>5</td>\n",
       "      <td>127</td>\n",
       "      <td>47</td>\n",
       "      <td>7</td>\n",
       "      <td>4</td>\n",
       "    </tr>\n",
       "    <tr>\n",
       "      <th>时尚</th>\n",
       "      <td>6</td>\n",
       "      <td>25</td>\n",
       "      <td>53</td>\n",
       "      <td>1</td>\n",
       "      <td>4</td>\n",
       "      <td>5</td>\n",
       "      <td>3147</td>\n",
       "      <td>11</td>\n",
       "      <td>2</td>\n",
       "      <td>5</td>\n",
       "      <td>5</td>\n",
       "      <td>21</td>\n",
       "      <td>0</td>\n",
       "      <td>1</td>\n",
       "    </tr>\n",
       "    <tr>\n",
       "      <th>时政</th>\n",
       "      <td>53</td>\n",
       "      <td>41</td>\n",
       "      <td>16</td>\n",
       "      <td>2</td>\n",
       "      <td>39</td>\n",
       "      <td>158</td>\n",
       "      <td>13</td>\n",
       "      <td>14868</td>\n",
       "      <td>1</td>\n",
       "      <td>4</td>\n",
       "      <td>194</td>\n",
       "      <td>196</td>\n",
       "      <td>112</td>\n",
       "      <td>50</td>\n",
       "    </tr>\n",
       "    <tr>\n",
       "      <th>星座</th>\n",
       "      <td>2</td>\n",
       "      <td>0</td>\n",
       "      <td>3</td>\n",
       "      <td>0</td>\n",
       "      <td>0</td>\n",
       "      <td>0</td>\n",
       "      <td>4</td>\n",
       "      <td>1</td>\n",
       "      <td>896</td>\n",
       "      <td>0</td>\n",
       "      <td>2</td>\n",
       "      <td>0</td>\n",
       "      <td>1</td>\n",
       "      <td>0</td>\n",
       "    </tr>\n",
       "    <tr>\n",
       "      <th>游戏</th>\n",
       "      <td>9</td>\n",
       "      <td>11</td>\n",
       "      <td>23</td>\n",
       "      <td>0</td>\n",
       "      <td>0</td>\n",
       "      <td>9</td>\n",
       "      <td>6</td>\n",
       "      <td>8</td>\n",
       "      <td>0</td>\n",
       "      <td>5739</td>\n",
       "      <td>8</td>\n",
       "      <td>231</td>\n",
       "      <td>4</td>\n",
       "      <td>1</td>\n",
       "    </tr>\n",
       "    <tr>\n",
       "      <th>社会</th>\n",
       "      <td>45</td>\n",
       "      <td>113</td>\n",
       "      <td>36</td>\n",
       "      <td>34</td>\n",
       "      <td>85</td>\n",
       "      <td>332</td>\n",
       "      <td>15</td>\n",
       "      <td>400</td>\n",
       "      <td>0</td>\n",
       "      <td>9</td>\n",
       "      <td>11224</td>\n",
       "      <td>358</td>\n",
       "      <td>16</td>\n",
       "      <td>40</td>\n",
       "    </tr>\n",
       "    <tr>\n",
       "      <th>科技</th>\n",
       "      <td>45</td>\n",
       "      <td>165</td>\n",
       "      <td>243</td>\n",
       "      <td>15</td>\n",
       "      <td>40</td>\n",
       "      <td>187</td>\n",
       "      <td>28</td>\n",
       "      <td>417</td>\n",
       "      <td>0</td>\n",
       "      <td>380</td>\n",
       "      <td>390</td>\n",
       "      <td>38034</td>\n",
       "      <td>356</td>\n",
       "      <td>79</td>\n",
       "    </tr>\n",
       "    <tr>\n",
       "      <th>股票</th>\n",
       "      <td>14</td>\n",
       "      <td>9</td>\n",
       "      <td>64</td>\n",
       "      <td>2</td>\n",
       "      <td>113</td>\n",
       "      <td>21</td>\n",
       "      <td>7</td>\n",
       "      <td>473</td>\n",
       "      <td>0</td>\n",
       "      <td>20</td>\n",
       "      <td>21</td>\n",
       "      <td>490</td>\n",
       "      <td>36758</td>\n",
       "      <td>865</td>\n",
       "    </tr>\n",
       "    <tr>\n",
       "      <th>财经</th>\n",
       "      <td>10</td>\n",
       "      <td>11</td>\n",
       "      <td>31</td>\n",
       "      <td>6</td>\n",
       "      <td>59</td>\n",
       "      <td>23</td>\n",
       "      <td>3</td>\n",
       "      <td>62</td>\n",
       "      <td>0</td>\n",
       "      <td>1</td>\n",
       "      <td>67</td>\n",
       "      <td>120</td>\n",
       "      <td>521</td>\n",
       "      <td>8357</td>\n",
       "    </tr>\n",
       "  </tbody>\n",
       "</table>\n",
       "</div>"
      ],
      "text/plain": [
       "       体育     娱乐    家居    彩票    房产     教育    时尚     时政   星座    游戏     社会  \\\n",
       "体育  32689     92    20    21     4     22     5     47    0     5     34   \n",
       "娱乐    128  22196   117     1    22     89    79    120    4    13    148   \n",
       "家居     15     49  8035     0    29     28    30     17    2     4     13   \n",
       "彩票     39      1     2  1859     0      2     1      4    1     2     21   \n",
       "房产      1      8    61     0  4720     19     1     33    0     1     29   \n",
       "教育      8     20    24     5     5  10120     9     92    1     5    127   \n",
       "时尚      6     25    53     1     4      5  3147     11    2     5      5   \n",
       "时政     53     41    16     2    39    158    13  14868    1     4    194   \n",
       "星座      2      0     3     0     0      0     4      1  896     0      2   \n",
       "游戏      9     11    23     0     0      9     6      8    0  5739      8   \n",
       "社会     45    113    36    34    85    332    15    400    0     9  11224   \n",
       "科技     45    165   243    15    40    187    28    417    0   380    390   \n",
       "股票     14      9    64     2   113     21     7    473    0    20     21   \n",
       "财经     10     11    31     6    59     23     3     62    0     1     67   \n",
       "\n",
       "       科技     股票    财经  \n",
       "体育     34     11     4  \n",
       "娱乐    167     13    15  \n",
       "家居     63     25    15  \n",
       "彩票      3      1     1  \n",
       "房产     21     65    19  \n",
       "教育     47      7     4  \n",
       "时尚     21      0     1  \n",
       "时政    196    112    50  \n",
       "星座      0      1     0  \n",
       "游戏    231      4     1  \n",
       "社会    358     16    40  \n",
       "科技  38034    356    79  \n",
       "股票    490  36758   865  \n",
       "财经    120    521  8357  "
      ]
     },
     "execution_count": 39,
     "metadata": {},
     "output_type": "execute_result"
    }
   ],
   "source": [
    "from sklearn.metrics import confusion_matrix\n",
    "\n",
    "def predict_test():\n",
    "    startTime = time.time()\n",
    "    test_sample_quantity = len(test_index_1d_array)\n",
    "    batch_size  = 100\n",
    "    predict_Y_list = []\n",
    "    for i in range(0, test_sample_quantity, batch_size):\n",
    "        part_index_1d_array = test_index_1d_array[i: i + batch_size]\n",
    "        part_content_list = [content_list[k] for k in part_index_1d_array]\n",
    "        batch_X = get_X(part_index_1d_array)\n",
    "        predict_Y = session.run(data_10, {X_holder:batch_X})\n",
    "        predict_Y_list.extend(predict_Y)\n",
    "        usedTime = time.time() - startTime\n",
    "        print_string = '%d/ %d 花费时间:%.2f秒' %(i, test_sample_quantity, usedTime)\n",
    "        print_flush(print_string)\n",
    "    print_string = '%d/ %d 花费时间:%.2f秒' %(test_sample_quantity, test_sample_quantity, usedTime)\n",
    "    print_flush(print_string)    \n",
    "    Y = np.array(predict_Y_list)   \n",
    "    y = np.argmax(Y, axis=1)\n",
    "    predict_label_list = labelEncoder.inverse_transform(y)\n",
    "    return predict_label_list\n",
    "\n",
    "\n",
    "test_label_list = [label_list[k] for k in test_index_1d_array]\n",
    "predict_label_list = predict_test()\n",
    "pd.DataFrame(confusion_matrix(test_label_list, predict_label_list), \n",
    "             columns=labelEncoder.classes_,\n",
    "             index=labelEncoder.classes_ )"
   ]
  },
  {
   "cell_type": "markdown",
   "metadata": {},
   "source": [
    "## 10.报告表"
   ]
  },
  {
   "cell_type": "code",
   "execution_count": 40,
   "metadata": {},
   "outputs": [
    {
     "data": {
      "text/html": [
       "<div>\n",
       "<style scoped>\n",
       "    .dataframe tbody tr th:only-of-type {\n",
       "        vertical-align: middle;\n",
       "    }\n",
       "\n",
       "    .dataframe tbody tr th {\n",
       "        vertical-align: top;\n",
       "    }\n",
       "\n",
       "    .dataframe thead th {\n",
       "        text-align: right;\n",
       "    }\n",
       "</style>\n",
       "<table border=\"1\" class=\"dataframe\">\n",
       "  <thead>\n",
       "    <tr style=\"text-align: right;\">\n",
       "      <th></th>\n",
       "      <th>Label</th>\n",
       "      <th>Precision</th>\n",
       "      <th>Recall</th>\n",
       "      <th>F1</th>\n",
       "      <th>Support</th>\n",
       "    </tr>\n",
       "  </thead>\n",
       "  <tbody>\n",
       "    <tr>\n",
       "      <th>0</th>\n",
       "      <td>体育</td>\n",
       "      <td>0.988658</td>\n",
       "      <td>0.990936</td>\n",
       "      <td>0.989796</td>\n",
       "      <td>32988</td>\n",
       "    </tr>\n",
       "    <tr>\n",
       "      <th>1</th>\n",
       "      <td>娱乐</td>\n",
       "      <td>0.976034</td>\n",
       "      <td>0.960367</td>\n",
       "      <td>0.968137</td>\n",
       "      <td>23112</td>\n",
       "    </tr>\n",
       "    <tr>\n",
       "      <th>2</th>\n",
       "      <td>家居</td>\n",
       "      <td>0.920600</td>\n",
       "      <td>0.965165</td>\n",
       "      <td>0.942356</td>\n",
       "      <td>8325</td>\n",
       "    </tr>\n",
       "    <tr>\n",
       "      <th>3</th>\n",
       "      <td>彩票</td>\n",
       "      <td>0.955293</td>\n",
       "      <td>0.959732</td>\n",
       "      <td>0.957507</td>\n",
       "      <td>1937</td>\n",
       "    </tr>\n",
       "    <tr>\n",
       "      <th>4</th>\n",
       "      <td>房产</td>\n",
       "      <td>0.921875</td>\n",
       "      <td>0.948172</td>\n",
       "      <td>0.934839</td>\n",
       "      <td>4978</td>\n",
       "    </tr>\n",
       "    <tr>\n",
       "      <th>5</th>\n",
       "      <td>教育</td>\n",
       "      <td>0.918747</td>\n",
       "      <td>0.966202</td>\n",
       "      <td>0.941877</td>\n",
       "      <td>10474</td>\n",
       "    </tr>\n",
       "    <tr>\n",
       "      <th>6</th>\n",
       "      <td>时尚</td>\n",
       "      <td>0.939964</td>\n",
       "      <td>0.957699</td>\n",
       "      <td>0.948749</td>\n",
       "      <td>3286</td>\n",
       "    </tr>\n",
       "    <tr>\n",
       "      <th>7</th>\n",
       "      <td>时政</td>\n",
       "      <td>0.898206</td>\n",
       "      <td>0.944180</td>\n",
       "      <td>0.920619</td>\n",
       "      <td>15747</td>\n",
       "    </tr>\n",
       "    <tr>\n",
       "      <th>8</th>\n",
       "      <td>星座</td>\n",
       "      <td>0.987872</td>\n",
       "      <td>0.985699</td>\n",
       "      <td>0.986784</td>\n",
       "      <td>909</td>\n",
       "    </tr>\n",
       "    <tr>\n",
       "      <th>9</th>\n",
       "      <td>游戏</td>\n",
       "      <td>0.927440</td>\n",
       "      <td>0.948752</td>\n",
       "      <td>0.937975</td>\n",
       "      <td>6049</td>\n",
       "    </tr>\n",
       "    <tr>\n",
       "      <th>10</th>\n",
       "      <td>社会</td>\n",
       "      <td>0.913783</td>\n",
       "      <td>0.883293</td>\n",
       "      <td>0.898279</td>\n",
       "      <td>12707</td>\n",
       "    </tr>\n",
       "    <tr>\n",
       "      <th>11</th>\n",
       "      <td>科技</td>\n",
       "      <td>0.955988</td>\n",
       "      <td>0.941925</td>\n",
       "      <td>0.948905</td>\n",
       "      <td>40379</td>\n",
       "    </tr>\n",
       "    <tr>\n",
       "      <th>12</th>\n",
       "      <td>股票</td>\n",
       "      <td>0.970124</td>\n",
       "      <td>0.945981</td>\n",
       "      <td>0.957901</td>\n",
       "      <td>38857</td>\n",
       "    </tr>\n",
       "    <tr>\n",
       "      <th>13</th>\n",
       "      <td>财经</td>\n",
       "      <td>0.884245</td>\n",
       "      <td>0.901413</td>\n",
       "      <td>0.892747</td>\n",
       "      <td>9271</td>\n",
       "    </tr>\n",
       "    <tr>\n",
       "      <th>999</th>\n",
       "      <td>总体</td>\n",
       "      <td>0.950854</td>\n",
       "      <td>0.950354</td>\n",
       "      <td>0.950435</td>\n",
       "      <td>209019</td>\n",
       "    </tr>\n",
       "  </tbody>\n",
       "</table>\n",
       "</div>"
      ],
      "text/plain": [
       "    Label  Precision    Recall        F1  Support\n",
       "0      体育   0.988658  0.990936  0.989796    32988\n",
       "1      娱乐   0.976034  0.960367  0.968137    23112\n",
       "2      家居   0.920600  0.965165  0.942356     8325\n",
       "3      彩票   0.955293  0.959732  0.957507     1937\n",
       "4      房产   0.921875  0.948172  0.934839     4978\n",
       "5      教育   0.918747  0.966202  0.941877    10474\n",
       "6      时尚   0.939964  0.957699  0.948749     3286\n",
       "7      时政   0.898206  0.944180  0.920619    15747\n",
       "8      星座   0.987872  0.985699  0.986784      909\n",
       "9      游戏   0.927440  0.948752  0.937975     6049\n",
       "10     社会   0.913783  0.883293  0.898279    12707\n",
       "11     科技   0.955988  0.941925  0.948905    40379\n",
       "12     股票   0.970124  0.945981  0.957901    38857\n",
       "13     财经   0.884245  0.901413  0.892747     9271\n",
       "999    总体   0.950854  0.950354  0.950435   209019"
      ]
     },
     "execution_count": 40,
     "metadata": {},
     "output_type": "execute_result"
    }
   ],
   "source": [
    "import numpy as np\n",
    "from sklearn.metrics import precision_recall_fscore_support\n",
    "\n",
    "def eval_model(y_true, y_pred, labels):\n",
    "    # 计算每个分类的Precision, Recall, f1, support\n",
    "    p, r, f1, s = precision_recall_fscore_support(y_true, y_pred)\n",
    "    # 计算总体的平均Precision, Recall, f1, support\n",
    "    tot_p = np.average(p, weights=s)\n",
    "    tot_r = np.average(r, weights=s)\n",
    "    tot_f1 = np.average(f1, weights=s)\n",
    "    tot_s = np.sum(s)\n",
    "    res1 = pd.DataFrame({\n",
    "        u'Label': labels,\n",
    "        u'Precision': p,\n",
    "        u'Recall': r,\n",
    "        u'F1': f1,\n",
    "        u'Support': s\n",
    "    })\n",
    "    res2 = pd.DataFrame({\n",
    "        u'Label': ['总体'],\n",
    "        u'Precision': [tot_p],\n",
    "        u'Recall': [tot_r],\n",
    "        u'F1': [tot_f1],\n",
    "        u'Support': [tot_s]\n",
    "    })\n",
    "    res2.index = [999]\n",
    "    res = pd.concat([res1, res2])\n",
    "    return res[['Label', 'Precision', 'Recall', 'F1', 'Support']]\n",
    "\n",
    "eval_model(test_label_list, predict_label_list, labelEncoder.classes_)"
   ]
  },
  {
   "cell_type": "code",
   "execution_count": null,
   "metadata": {},
   "outputs": [],
   "source": []
  }
 ],
 "metadata": {
  "kernelspec": {
   "display_name": "Python 3",
   "language": "python",
   "name": "python3"
  },
  "language_info": {
   "codemirror_mode": {
    "name": "ipython",
    "version": 3
   },
   "file_extension": ".py",
   "mimetype": "text/x-python",
   "name": "python",
   "nbconvert_exporter": "python",
   "pygments_lexer": "ipython3",
   "version": "3.6.5"
  }
 },
 "nbformat": 4,
 "nbformat_minor": 2
}
